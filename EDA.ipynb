{
 "cells": [
  {
   "cell_type": "markdown",
   "metadata": {},
   "source": [
    "# 1. 패키지 불러오기"
   ]
  },
  {
   "cell_type": "code",
   "execution_count": 83,
   "metadata": {},
   "outputs": [],
   "source": [
    "#Library Imports\n",
    "import numpy as np\n",
    "import pandas as pd\n",
    "import math\n",
    "import os\n",
    "import matplotlib.pyplot as plt\n",
    "import seaborn as sns\n",
    "import datetime as dt\n",
    "from tqdm import tqdm"
   ]
  },
  {
   "cell_type": "markdown",
   "metadata": {},
   "source": [
    "# 2. 데이터 불러오기"
   ]
  },
  {
   "cell_type": "code",
   "execution_count": 3,
   "metadata": {},
   "outputs": [],
   "source": [
    "load_path = './data/' # 데이터 불러오는 경로\n",
    "save_path = './preprocessing/' # 전처리 이후 데이터 저장하는 경로"
   ]
  },
  {
   "cell_type": "code",
   "execution_count": 5,
   "metadata": {},
   "outputs": [
    {
     "name": "stderr",
     "output_type": "stream",
     "text": [
      "/var/folders/72/222764852597cbmznbjd4bsc0000gn/T/ipykernel_30969/3504990764.py:2: DtypeWarning: Columns (10,11,12) have mixed types. Specify dtype option on import or set low_memory=False.\n",
      "  train_qual = pd.read_csv(load_path + 'train_quality_data.csv')\n"
     ]
    }
   ],
   "source": [
    "train_err = pd.read_csv(load_path + 'train_err_data.csv')\n",
    "train_qual = pd.read_csv(load_path + 'train_quality_data.csv')\n",
    "train_prob = pd.read_csv(load_path + 'train_problem_data.csv')"
   ]
  },
  {
   "cell_type": "code",
   "execution_count": 6,
   "metadata": {},
   "outputs": [
    {
     "name": "stderr",
     "output_type": "stream",
     "text": [
      "/var/folders/72/222764852597cbmznbjd4bsc0000gn/T/ipykernel_30969/3785495537.py:2: DtypeWarning: Columns (4,11,12) have mixed types. Specify dtype option on import or set low_memory=False.\n",
      "  test_qual = pd.read_csv(load_path + 'test_quality_data.csv')\n"
     ]
    }
   ],
   "source": [
    "test_err = pd.read_csv(load_path + 'test_err_data.csv')\n",
    "test_qual = pd.read_csv(load_path + 'test_quality_data.csv')"
   ]
  },
  {
   "cell_type": "markdown",
   "metadata": {},
   "source": [
    "# 3. 데이터 분석\n",
    "## Dataset 정보\n",
    "\n",
    "### Err dataset\n",
    "Err Data는 사람들이 에러를 접한 시간을 기준으로\n",
    "어떤 Model & Fwver을 사용하고, 접한 Errtype & Errcode는 무엇인지에 대하여 알려주는 데이터이다.\n",
    "- User ID : 사용자 고유 ID\n",
    "- Time : 에러 발생 시간\n",
    "- Model : 에러가 발생한 모델명\n",
    "- Fwver : 에러가 발생한 펌웨어 버전\n",
    "- Errtype : 에러 분류 (에러 타입)\n",
    "- Errcode : 어떤 에러가 발생하였는지 (에러 코드)"
   ]
  },
  {
   "cell_type": "code",
   "execution_count": 13,
   "metadata": {},
   "outputs": [
    {
     "name": "stdout",
     "output_type": "stream",
     "text": [
      "<class 'pandas.core.frame.DataFrame'>\n",
      "RangeIndex: 16554663 entries, 0 to 16554662\n",
      "Data columns (total 6 columns):\n",
      " #   Column    Dtype \n",
      "---  ------    ----- \n",
      " 0   user_id   int64 \n",
      " 1   time      int64 \n",
      " 2   model_nm  object\n",
      " 3   fwver     object\n",
      " 4   errtype   int64 \n",
      " 5   errcode   object\n",
      "dtypes: int64(3), object(3)\n",
      "memory usage: 757.8+ MB\n"
     ]
    }
   ],
   "source": [
    "train_err.info() # column user_id, time, model_nm, fwver, errtype, errcode"
   ]
  },
  {
   "cell_type": "code",
   "execution_count": 14,
   "metadata": {},
   "outputs": [
    {
     "name": "stdout",
     "output_type": "stream",
     "text": [
      "<class 'pandas.core.frame.DataFrame'>\n",
      "RangeIndex: 16532648 entries, 0 to 16532647\n",
      "Data columns (total 6 columns):\n",
      " #   Column    Dtype \n",
      "---  ------    ----- \n",
      " 0   user_id   int64 \n",
      " 1   time      int64 \n",
      " 2   model_nm  object\n",
      " 3   fwver     object\n",
      " 4   errtype   int64 \n",
      " 5   errcode   object\n",
      "dtypes: int64(3), object(3)\n",
      "memory usage: 756.8+ MB\n"
     ]
    }
   ],
   "source": [
    "test_err.info()"
   ]
  },
  {
   "cell_type": "markdown",
   "metadata": {},
   "source": [
    "### Qual dataset\n",
    "Quality Data는 사용자의 시스템 작동 중 문제가 발생하면\n",
    "측정 가능한 지표들로 해당 시점으로부터 2시간 단위로 수집한 정보를 알려주는 데이터이다.\n",
    "- User ID : 사용자 고유 ID\n",
    "- Time : 퀄리티가 수집되기 시작한 시간\n",
    "- Fwver : 퀄리티 시작 시점 기준의 펌웨어 버전\n",
    "- Quality : 에러 퀄리티 수치 (0~12, 총 13개 컬럼)"
   ]
  },
  {
   "cell_type": "code",
   "execution_count": 16,
   "metadata": {},
   "outputs": [
    {
     "name": "stdout",
     "output_type": "stream",
     "text": [
      "<class 'pandas.core.frame.DataFrame'>\n",
      "RangeIndex: 828624 entries, 0 to 828623\n",
      "Data columns (total 16 columns):\n",
      " #   Column      Non-Null Count   Dtype  \n",
      "---  ------      --------------   -----  \n",
      " 0   time        828624 non-null  int64  \n",
      " 1   user_id     828624 non-null  int64  \n",
      " 2   fwver       788544 non-null  object \n",
      " 3   quality_0   684192 non-null  float64\n",
      " 4   quality_1   828624 non-null  int64  \n",
      " 5   quality_2   788511 non-null  float64\n",
      " 6   quality_3   828624 non-null  int64  \n",
      " 7   quality_4   828624 non-null  int64  \n",
      " 8   quality_5   828604 non-null  object \n",
      " 9   quality_6   828624 non-null  int64  \n",
      " 10  quality_7   828624 non-null  object \n",
      " 11  quality_8   828624 non-null  object \n",
      " 12  quality_9   828624 non-null  object \n",
      " 13  quality_10  828624 non-null  object \n",
      " 14  quality_11  828624 non-null  int64  \n",
      " 15  quality_12  828624 non-null  int64  \n",
      "dtypes: float64(2), int64(8), object(6)\n",
      "memory usage: 101.2+ MB\n"
     ]
    }
   ],
   "source": [
    "train_qual.info()"
   ]
  },
  {
   "cell_type": "code",
   "execution_count": 17,
   "metadata": {},
   "outputs": [
    {
     "name": "stdout",
     "output_type": "stream",
     "text": [
      "<class 'pandas.core.frame.DataFrame'>\n",
      "RangeIndex: 747972 entries, 0 to 747971\n",
      "Data columns (total 16 columns):\n",
      " #   Column      Non-Null Count   Dtype  \n",
      "---  ------      --------------   -----  \n",
      " 0   time        747972 non-null  int64  \n",
      " 1   user_id     747972 non-null  int64  \n",
      " 2   fwver       725208 non-null  object \n",
      " 3   quality_0   641388 non-null  float64\n",
      " 4   quality_1   747961 non-null  object \n",
      " 5   quality_2   726857 non-null  float64\n",
      " 6   quality_3   747972 non-null  int64  \n",
      " 7   quality_4   747972 non-null  int64  \n",
      " 8   quality_5   747928 non-null  object \n",
      " 9   quality_6   747972 non-null  int64  \n",
      " 10  quality_7   747972 non-null  object \n",
      " 11  quality_8   747972 non-null  object \n",
      " 12  quality_9   747972 non-null  object \n",
      " 13  quality_10  747972 non-null  object \n",
      " 14  quality_11  747972 non-null  int64  \n",
      " 15  quality_12  747972 non-null  int64  \n",
      "dtypes: float64(2), int64(7), object(7)\n",
      "memory usage: 91.3+ MB\n"
     ]
    }
   ],
   "source": [
    "test_qual.info()"
   ]
  },
  {
   "cell_type": "markdown",
   "metadata": {},
   "source": [
    "### Problem dataset\n",
    "Problem Data는 전체 사용자 중에서, 불만을 제기한 사람들의 시간을 알려주는 데이터이다.\n",
    "- User ID : 불만을 제기한 유저\n",
    "- Time : 불만을 제기한 시간\n",
    "- 한 사용자가 여러번 불만을 제기할 수 있음"
   ]
  },
  {
   "cell_type": "code",
   "execution_count": 18,
   "metadata": {},
   "outputs": [
    {
     "name": "stdout",
     "output_type": "stream",
     "text": [
      "<class 'pandas.core.frame.DataFrame'>\n",
      "RangeIndex: 5429 entries, 0 to 5428\n",
      "Data columns (total 2 columns):\n",
      " #   Column   Non-Null Count  Dtype\n",
      "---  ------   --------------  -----\n",
      " 0   user_id  5429 non-null   int64\n",
      " 1   time     5429 non-null   int64\n",
      "dtypes: int64(2)\n",
      "memory usage: 85.0 KB\n"
     ]
    }
   ],
   "source": [
    "train_prob.info()"
   ]
  },
  {
   "cell_type": "markdown",
   "metadata": {},
   "source": [
    "## 결측치 확인"
   ]
  },
  {
   "cell_type": "markdown",
   "metadata": {},
   "source": [
    "### Train Err Data 결측치 확인"
   ]
  },
  {
   "cell_type": "code",
   "execution_count": 19,
   "metadata": {},
   "outputs": [
    {
     "data": {
      "text/plain": [
       "user_id     0\n",
       "time        0\n",
       "model_nm    0\n",
       "fwver       0\n",
       "errtype     0\n",
       "errcode     1\n",
       "dtype: int64"
      ]
     },
     "execution_count": 19,
     "metadata": {},
     "output_type": "execute_result"
    }
   ],
   "source": [
    "train_err.isnull().sum()"
   ]
  },
  {
   "cell_type": "code",
   "execution_count": 20,
   "metadata": {},
   "outputs": [
    {
     "data": {
      "text/html": [
       "<div>\n",
       "<style scoped>\n",
       "    .dataframe tbody tr th:only-of-type {\n",
       "        vertical-align: middle;\n",
       "    }\n",
       "\n",
       "    .dataframe tbody tr th {\n",
       "        vertical-align: top;\n",
       "    }\n",
       "\n",
       "    .dataframe thead th {\n",
       "        text-align: right;\n",
       "    }\n",
       "</style>\n",
       "<table border=\"1\" class=\"dataframe\">\n",
       "  <thead>\n",
       "    <tr style=\"text-align: right;\">\n",
       "      <th></th>\n",
       "      <th>user_id</th>\n",
       "      <th>time</th>\n",
       "      <th>model_nm</th>\n",
       "      <th>fwver</th>\n",
       "      <th>errtype</th>\n",
       "      <th>errcode</th>\n",
       "    </tr>\n",
       "  </thead>\n",
       "  <tbody>\n",
       "    <tr>\n",
       "      <th>3825744</th>\n",
       "      <td>13639</td>\n",
       "      <td>20201121191718</td>\n",
       "      <td>model_2</td>\n",
       "      <td>04.33.1261</td>\n",
       "      <td>5</td>\n",
       "      <td>NaN</td>\n",
       "    </tr>\n",
       "  </tbody>\n",
       "</table>\n",
       "</div>"
      ],
      "text/plain": [
       "         user_id            time model_nm       fwver  errtype errcode\n",
       "3825744    13639  20201121191718  model_2  04.33.1261        5     NaN"
      ]
     },
     "execution_count": 20,
     "metadata": {},
     "output_type": "execute_result"
    }
   ],
   "source": [
    "train_err[train_err['errcode'].isnull()]"
   ]
  },
  {
   "cell_type": "code",
   "execution_count": 28,
   "metadata": {},
   "outputs": [
    {
     "data": {
      "text/html": [
       "<div>\n",
       "<style scoped>\n",
       "    .dataframe tbody tr th:only-of-type {\n",
       "        vertical-align: middle;\n",
       "    }\n",
       "\n",
       "    .dataframe tbody tr th {\n",
       "        vertical-align: top;\n",
       "    }\n",
       "\n",
       "    .dataframe thead th {\n",
       "        text-align: right;\n",
       "    }\n",
       "</style>\n",
       "<table border=\"1\" class=\"dataframe\">\n",
       "  <thead>\n",
       "    <tr style=\"text-align: right;\">\n",
       "      <th></th>\n",
       "      <th>user_id</th>\n",
       "      <th>time</th>\n",
       "      <th>model_nm</th>\n",
       "      <th>fwver</th>\n",
       "      <th>errtype</th>\n",
       "      <th>errcode</th>\n",
       "    </tr>\n",
       "  </thead>\n",
       "  <tbody>\n",
       "    <tr>\n",
       "      <th>3825744</th>\n",
       "      <td>13639</td>\n",
       "      <td>20201121191718</td>\n",
       "      <td>model_2</td>\n",
       "      <td>04.33.1261</td>\n",
       "      <td>5</td>\n",
       "      <td>NaN</td>\n",
       "    </tr>\n",
       "    <tr>\n",
       "      <th>3825745</th>\n",
       "      <td>13639</td>\n",
       "      <td>20201121191718</td>\n",
       "      <td>model_2</td>\n",
       "      <td>04.33.1261</td>\n",
       "      <td>5</td>\n",
       "      <td>40013</td>\n",
       "    </tr>\n",
       "  </tbody>\n",
       "</table>\n",
       "</div>"
      ],
      "text/plain": [
       "         user_id            time model_nm       fwver  errtype errcode\n",
       "3825744    13639  20201121191718  model_2  04.33.1261        5     NaN\n",
       "3825745    13639  20201121191718  model_2  04.33.1261        5   40013"
      ]
     },
     "execution_count": 28,
     "metadata": {},
     "output_type": "execute_result"
    }
   ],
   "source": [
    "train_err[(train_err['user_id']==13639) & (train_err['model_nm']=='model_2') & (train_err['fwver']=='04.33.1261') & (train_err['errtype']==5) & (train_err['time']==20201121191718)]"
   ]
  },
  {
   "cell_type": "markdown",
   "metadata": {},
   "source": [
    "- 같은 시간, 같은 펌웨어, 같은 유저, 같은 에러타입의 경우 같은 에러코드를 가질 확률이 높다\n",
    "고로 결측치를 대체할 수 있다.\n",
    "\n",
    "- 동일한 에러코드로 교체한다."
   ]
  },
  {
   "cell_type": "code",
   "execution_count": 29,
   "metadata": {},
   "outputs": [],
   "source": [
    "train_err['errcode'] = train_err['errcode'].fillna('40013')"
   ]
  },
  {
   "cell_type": "markdown",
   "metadata": {},
   "source": [
    "### Train Qual Data 결측치 확인\n",
    "\n",
    "- Fwver 결측치 확인 \n",
    "- quality_0, quality_2, quality_5  결측치 존재"
   ]
  },
  {
   "cell_type": "code",
   "execution_count": 32,
   "metadata": {},
   "outputs": [
    {
     "data": {
      "text/plain": [
       "time               0\n",
       "user_id            0\n",
       "fwver          40080\n",
       "quality_0     144432\n",
       "quality_1          0\n",
       "quality_2      40113\n",
       "quality_3          0\n",
       "quality_4          0\n",
       "quality_5         20\n",
       "quality_6          0\n",
       "quality_7          0\n",
       "quality_8          0\n",
       "quality_9          0\n",
       "quality_10         0\n",
       "quality_11         0\n",
       "quality_12         0\n",
       "dtype: int64"
      ]
     },
     "execution_count": 32,
     "metadata": {},
     "output_type": "execute_result"
    }
   ],
   "source": [
    "train_qual.isnull().sum()"
   ]
  },
  {
   "cell_type": "code",
   "execution_count": 40,
   "metadata": {},
   "outputs": [
    {
     "data": {
      "text/plain": [
       "55.45762711864407"
      ]
     },
     "execution_count": 40,
     "metadata": {},
     "output_type": "execute_result"
    }
   ],
   "source": [
    "train_qual[train_qual['fwver'].isnull()].groupby('user_id')['time'].unique().to_frame()['time'].str.len().mean()"
   ]
  },
  {
   "cell_type": "code",
   "execution_count": 41,
   "metadata": {},
   "outputs": [
    {
     "data": {
      "text/plain": [
       "7.9863813229571985"
      ]
     },
     "execution_count": 41,
     "metadata": {},
     "output_type": "execute_result"
    }
   ],
   "source": [
    "train_qual[~train_qual['fwver'].isnull()].groupby('user_id')['time'].unique().to_frame()['time'].str.len().mean()"
   ]
  },
  {
   "cell_type": "code",
   "execution_count": 42,
   "metadata": {},
   "outputs": [],
   "source": [
    "fwms_idx = train_qual[train_qual['fwver'].isnull()].index\n",
    "train_qual = train_qual.drop(fwms_idx)"
   ]
  },
  {
   "cell_type": "code",
   "execution_count": 44,
   "metadata": {},
   "outputs": [],
   "source": [
    "for i in train_qual.columns[3:]:\n",
    "    train_qual[i] = train_qual[i].fillna(train_qual[i].mode(0)[0])"
   ]
  },
  {
   "cell_type": "markdown",
   "metadata": {},
   "source": [
    "### Test Err Data 결측치\n"
   ]
  },
  {
   "cell_type": "code",
   "execution_count": 45,
   "metadata": {},
   "outputs": [
    {
     "data": {
      "text/plain": [
       "user_id     0\n",
       "time        0\n",
       "model_nm    0\n",
       "fwver       0\n",
       "errtype     0\n",
       "errcode     4\n",
       "dtype: int64"
      ]
     },
     "execution_count": 45,
     "metadata": {},
     "output_type": "execute_result"
    }
   ],
   "source": [
    "test_err.isnull().sum()"
   ]
  },
  {
   "cell_type": "code",
   "execution_count": 46,
   "metadata": {},
   "outputs": [
    {
     "data": {
      "text/html": [
       "<div>\n",
       "<style scoped>\n",
       "    .dataframe tbody tr th:only-of-type {\n",
       "        vertical-align: middle;\n",
       "    }\n",
       "\n",
       "    .dataframe tbody tr th {\n",
       "        vertical-align: top;\n",
       "    }\n",
       "\n",
       "    .dataframe thead th {\n",
       "        text-align: right;\n",
       "    }\n",
       "</style>\n",
       "<table border=\"1\" class=\"dataframe\">\n",
       "  <thead>\n",
       "    <tr style=\"text-align: right;\">\n",
       "      <th></th>\n",
       "      <th>user_id</th>\n",
       "      <th>time</th>\n",
       "      <th>model_nm</th>\n",
       "      <th>fwver</th>\n",
       "      <th>errtype</th>\n",
       "      <th>errcode</th>\n",
       "    </tr>\n",
       "  </thead>\n",
       "  <tbody>\n",
       "    <tr>\n",
       "      <th>937967</th>\n",
       "      <td>30820</td>\n",
       "      <td>20201115044317</td>\n",
       "      <td>model_2</td>\n",
       "      <td>04.33.1261</td>\n",
       "      <td>5</td>\n",
       "      <td>NaN</td>\n",
       "    </tr>\n",
       "    <tr>\n",
       "      <th>4038892</th>\n",
       "      <td>33681</td>\n",
       "      <td>20201103110259</td>\n",
       "      <td>model_2</td>\n",
       "      <td>04.33.1185</td>\n",
       "      <td>5</td>\n",
       "      <td>NaN</td>\n",
       "    </tr>\n",
       "    <tr>\n",
       "      <th>9486881</th>\n",
       "      <td>38991</td>\n",
       "      <td>20201127213838</td>\n",
       "      <td>model_2</td>\n",
       "      <td>04.33.1261</td>\n",
       "      <td>5</td>\n",
       "      <td>NaN</td>\n",
       "    </tr>\n",
       "    <tr>\n",
       "      <th>10425473</th>\n",
       "      <td>39894</td>\n",
       "      <td>20201128144712</td>\n",
       "      <td>model_1</td>\n",
       "      <td>04.16.3553</td>\n",
       "      <td>5</td>\n",
       "      <td>NaN</td>\n",
       "    </tr>\n",
       "  </tbody>\n",
       "</table>\n",
       "</div>"
      ],
      "text/plain": [
       "          user_id            time model_nm       fwver  errtype errcode\n",
       "937967      30820  20201115044317  model_2  04.33.1261        5     NaN\n",
       "4038892     33681  20201103110259  model_2  04.33.1185        5     NaN\n",
       "9486881     38991  20201127213838  model_2  04.33.1261        5     NaN\n",
       "10425473    39894  20201128144712  model_1  04.16.3553        5     NaN"
      ]
     },
     "execution_count": 46,
     "metadata": {},
     "output_type": "execute_result"
    }
   ],
   "source": [
    "test_err[test_err['errcode'].isnull()]"
   ]
  },
  {
   "cell_type": "code",
   "execution_count": 48,
   "metadata": {},
   "outputs": [
    {
     "data": {
      "text/html": [
       "<div>\n",
       "<style scoped>\n",
       "    .dataframe tbody tr th:only-of-type {\n",
       "        vertical-align: middle;\n",
       "    }\n",
       "\n",
       "    .dataframe tbody tr th {\n",
       "        vertical-align: top;\n",
       "    }\n",
       "\n",
       "    .dataframe thead th {\n",
       "        text-align: right;\n",
       "    }\n",
       "</style>\n",
       "<table border=\"1\" class=\"dataframe\">\n",
       "  <thead>\n",
       "    <tr style=\"text-align: right;\">\n",
       "      <th></th>\n",
       "      <th>user_id</th>\n",
       "      <th>time</th>\n",
       "      <th>model_nm</th>\n",
       "      <th>fwver</th>\n",
       "      <th>errtype</th>\n",
       "      <th>errcode</th>\n",
       "    </tr>\n",
       "  </thead>\n",
       "  <tbody>\n",
       "    <tr>\n",
       "      <th>937967</th>\n",
       "      <td>30820</td>\n",
       "      <td>20201115044317</td>\n",
       "      <td>model_2</td>\n",
       "      <td>04.33.1261</td>\n",
       "      <td>5</td>\n",
       "      <td>NaN</td>\n",
       "    </tr>\n",
       "    <tr>\n",
       "      <th>937968</th>\n",
       "      <td>30820</td>\n",
       "      <td>20201115044317</td>\n",
       "      <td>model_2</td>\n",
       "      <td>04.33.1261</td>\n",
       "      <td>5</td>\n",
       "      <td>40053</td>\n",
       "    </tr>\n",
       "  </tbody>\n",
       "</table>\n",
       "</div>"
      ],
      "text/plain": [
       "        user_id            time model_nm       fwver  errtype errcode\n",
       "937967    30820  20201115044317  model_2  04.33.1261        5     NaN\n",
       "937968    30820  20201115044317  model_2  04.33.1261        5   40053"
      ]
     },
     "execution_count": 48,
     "metadata": {},
     "output_type": "execute_result"
    }
   ],
   "source": [
    "test_err[(test_err['user_id']==30820) & (test_err['model_nm']=='model_2') \n",
    "& (test_err['fwver']=='04.33.1261') \n",
    "& (test_err['errtype']==5) & (test_err['time']==20201115044317)]"
   ]
  },
  {
   "cell_type": "code",
   "execution_count": 49,
   "metadata": {},
   "outputs": [],
   "source": [
    "test_err.iloc[937967,5] = '40053'"
   ]
  },
  {
   "cell_type": "code",
   "execution_count": 50,
   "metadata": {},
   "outputs": [
    {
     "data": {
      "text/html": [
       "<div>\n",
       "<style scoped>\n",
       "    .dataframe tbody tr th:only-of-type {\n",
       "        vertical-align: middle;\n",
       "    }\n",
       "\n",
       "    .dataframe tbody tr th {\n",
       "        vertical-align: top;\n",
       "    }\n",
       "\n",
       "    .dataframe thead th {\n",
       "        text-align: right;\n",
       "    }\n",
       "</style>\n",
       "<table border=\"1\" class=\"dataframe\">\n",
       "  <thead>\n",
       "    <tr style=\"text-align: right;\">\n",
       "      <th></th>\n",
       "      <th>user_id</th>\n",
       "      <th>time</th>\n",
       "      <th>model_nm</th>\n",
       "      <th>fwver</th>\n",
       "      <th>errtype</th>\n",
       "      <th>errcode</th>\n",
       "    </tr>\n",
       "  </thead>\n",
       "  <tbody>\n",
       "    <tr>\n",
       "      <th>4038892</th>\n",
       "      <td>33681</td>\n",
       "      <td>20201103110259</td>\n",
       "      <td>model_2</td>\n",
       "      <td>04.33.1185</td>\n",
       "      <td>5</td>\n",
       "      <td>NaN</td>\n",
       "    </tr>\n",
       "    <tr>\n",
       "      <th>4038893</th>\n",
       "      <td>33681</td>\n",
       "      <td>20201103110259</td>\n",
       "      <td>model_2</td>\n",
       "      <td>04.33.1185</td>\n",
       "      <td>5</td>\n",
       "      <td>40053</td>\n",
       "    </tr>\n",
       "  </tbody>\n",
       "</table>\n",
       "</div>"
      ],
      "text/plain": [
       "         user_id            time model_nm       fwver  errtype errcode\n",
       "4038892    33681  20201103110259  model_2  04.33.1185        5     NaN\n",
       "4038893    33681  20201103110259  model_2  04.33.1185        5   40053"
      ]
     },
     "execution_count": 50,
     "metadata": {},
     "output_type": "execute_result"
    }
   ],
   "source": [
    "test_err[(test_err['user_id']==33681) & (test_err['model_nm']=='model_2') & (test_err['fwver']=='04.33.1185') & (test_err['errtype']==5) & (test_err['time']==20201103110259)]"
   ]
  },
  {
   "cell_type": "code",
   "execution_count": 51,
   "metadata": {},
   "outputs": [],
   "source": [
    "test_err.iloc[4038892, 5] = \"40053\""
   ]
  },
  {
   "cell_type": "code",
   "execution_count": 53,
   "metadata": {},
   "outputs": [
    {
     "data": {
      "text/html": [
       "<div>\n",
       "<style scoped>\n",
       "    .dataframe tbody tr th:only-of-type {\n",
       "        vertical-align: middle;\n",
       "    }\n",
       "\n",
       "    .dataframe tbody tr th {\n",
       "        vertical-align: top;\n",
       "    }\n",
       "\n",
       "    .dataframe thead th {\n",
       "        text-align: right;\n",
       "    }\n",
       "</style>\n",
       "<table border=\"1\" class=\"dataframe\">\n",
       "  <thead>\n",
       "    <tr style=\"text-align: right;\">\n",
       "      <th></th>\n",
       "      <th>user_id</th>\n",
       "      <th>time</th>\n",
       "      <th>model_nm</th>\n",
       "      <th>fwver</th>\n",
       "      <th>errtype</th>\n",
       "      <th>errcode</th>\n",
       "    </tr>\n",
       "  </thead>\n",
       "  <tbody>\n",
       "    <tr>\n",
       "      <th>9486880</th>\n",
       "      <td>38991</td>\n",
       "      <td>20201127213838</td>\n",
       "      <td>model_2</td>\n",
       "      <td>04.33.1261</td>\n",
       "      <td>5</td>\n",
       "      <td>40053</td>\n",
       "    </tr>\n",
       "    <tr>\n",
       "      <th>9486881</th>\n",
       "      <td>38991</td>\n",
       "      <td>20201127213838</td>\n",
       "      <td>model_2</td>\n",
       "      <td>04.33.1261</td>\n",
       "      <td>5</td>\n",
       "      <td>NaN</td>\n",
       "    </tr>\n",
       "  </tbody>\n",
       "</table>\n",
       "</div>"
      ],
      "text/plain": [
       "         user_id            time model_nm       fwver  errtype errcode\n",
       "9486880    38991  20201127213838  model_2  04.33.1261        5   40053\n",
       "9486881    38991  20201127213838  model_2  04.33.1261        5     NaN"
      ]
     },
     "execution_count": 53,
     "metadata": {},
     "output_type": "execute_result"
    }
   ],
   "source": [
    "test_err[(test_err['user_id']==38991) & (test_err['model_nm']=='model_2') \n",
    "& (test_err['fwver']=='04.33.1261') & (test_err['errtype']==5) \n",
    "& (test_err['time']==20201127213838)]"
   ]
  },
  {
   "cell_type": "code",
   "execution_count": 54,
   "metadata": {},
   "outputs": [],
   "source": [
    "test_err.iloc[9486881, 5] = \"40053\""
   ]
  },
  {
   "cell_type": "code",
   "execution_count": 55,
   "metadata": {},
   "outputs": [
    {
     "data": {
      "text/html": [
       "<div>\n",
       "<style scoped>\n",
       "    .dataframe tbody tr th:only-of-type {\n",
       "        vertical-align: middle;\n",
       "    }\n",
       "\n",
       "    .dataframe tbody tr th {\n",
       "        vertical-align: top;\n",
       "    }\n",
       "\n",
       "    .dataframe thead th {\n",
       "        text-align: right;\n",
       "    }\n",
       "</style>\n",
       "<table border=\"1\" class=\"dataframe\">\n",
       "  <thead>\n",
       "    <tr style=\"text-align: right;\">\n",
       "      <th></th>\n",
       "      <th>user_id</th>\n",
       "      <th>time</th>\n",
       "      <th>model_nm</th>\n",
       "      <th>fwver</th>\n",
       "      <th>errtype</th>\n",
       "      <th>errcode</th>\n",
       "    </tr>\n",
       "  </thead>\n",
       "  <tbody>\n",
       "    <tr>\n",
       "      <th>10425472</th>\n",
       "      <td>39894</td>\n",
       "      <td>20201128144712</td>\n",
       "      <td>model_1</td>\n",
       "      <td>04.16.3553</td>\n",
       "      <td>5</td>\n",
       "      <td>-1010</td>\n",
       "    </tr>\n",
       "    <tr>\n",
       "      <th>10425473</th>\n",
       "      <td>39894</td>\n",
       "      <td>20201128144712</td>\n",
       "      <td>model_1</td>\n",
       "      <td>04.16.3553</td>\n",
       "      <td>5</td>\n",
       "      <td>NaN</td>\n",
       "    </tr>\n",
       "  </tbody>\n",
       "</table>\n",
       "</div>"
      ],
      "text/plain": [
       "          user_id            time model_nm       fwver  errtype errcode\n",
       "10425472    39894  20201128144712  model_1  04.16.3553        5   -1010\n",
       "10425473    39894  20201128144712  model_1  04.16.3553        5     NaN"
      ]
     },
     "execution_count": 55,
     "metadata": {},
     "output_type": "execute_result"
    }
   ],
   "source": [
    "test_err[(test_err['user_id']==39894) & (test_err['model_nm']=='model_1') \n",
    "& (test_err['fwver']=='04.16.3553') & (test_err['errtype']==5) \n",
    "& (test_err['time']==20201128144712)]"
   ]
  },
  {
   "cell_type": "code",
   "execution_count": 56,
   "metadata": {},
   "outputs": [],
   "source": [
    "test_err.iloc[10425473, 5] = \"-1010\""
   ]
  },
  {
   "cell_type": "code",
   "execution_count": 57,
   "metadata": {},
   "outputs": [
    {
     "data": {
      "text/plain": [
       "user_id     0\n",
       "time        0\n",
       "model_nm    0\n",
       "fwver       0\n",
       "errtype     0\n",
       "errcode     0\n",
       "dtype: int64"
      ]
     },
     "execution_count": 57,
     "metadata": {},
     "output_type": "execute_result"
    }
   ],
   "source": [
    "test_err.isnull().sum()"
   ]
  },
  {
   "cell_type": "markdown",
   "metadata": {},
   "source": [
    "### Test Quality Data Missing Value\n",
    "- Fwver 결측치 존재\n",
    "- quality_0, quality_1, quality_2, quality_5 결측치 존재\n"
   ]
  },
  {
   "cell_type": "code",
   "execution_count": 58,
   "metadata": {},
   "outputs": [
    {
     "data": {
      "text/plain": [
       "time               0\n",
       "user_id            0\n",
       "fwver          22764\n",
       "quality_0     106584\n",
       "quality_1         11\n",
       "quality_2      21115\n",
       "quality_3          0\n",
       "quality_4          0\n",
       "quality_5         44\n",
       "quality_6          0\n",
       "quality_7          0\n",
       "quality_8          0\n",
       "quality_9          0\n",
       "quality_10         0\n",
       "quality_11         0\n",
       "quality_12         0\n",
       "dtype: int64"
      ]
     },
     "execution_count": 58,
     "metadata": {},
     "output_type": "execute_result"
    }
   ],
   "source": [
    "test_qual.isnull().sum()"
   ]
  },
  {
   "cell_type": "code",
   "execution_count": 61,
   "metadata": {},
   "outputs": [],
   "source": [
    "fwms_idx = test_qual[test_qual['fwver'].isnull()].index\n",
    "test_qual = test_qual.drop(fwms_idx)\n"
   ]
  },
  {
   "cell_type": "code",
   "execution_count": 62,
   "metadata": {},
   "outputs": [],
   "source": [
    "for i in test_qual.columns[3:]:\n",
    "    test_qual[i] = test_qual[i].fillna(test_qual[i].mode(0)[0])"
   ]
  },
  {
   "cell_type": "code",
   "execution_count": 63,
   "metadata": {},
   "outputs": [
    {
     "name": "stdout",
     "output_type": "stream",
     "text": [
      "0, 0, 0, 0\n"
     ]
    }
   ],
   "source": [
    "print(train_err.isnull().sum().sum(), end=\", \")\n",
    "print(test_err.isnull().sum().sum(), end=\", \")\n",
    "print(train_qual.isnull().sum().sum(), end=\", \")\n",
    "print(test_qual.isnull().sum().sum())"
   ]
  },
  {
   "cell_type": "markdown",
   "metadata": {},
   "source": [
    "### 데이터 기본 전처리\n",
    "1. 변수 타입 통일\n",
    "- time 변수 타입을 int에서 datetime으로 변경"
   ]
  },
  {
   "cell_type": "code",
   "execution_count": 65,
   "metadata": {},
   "outputs": [],
   "source": [
    "# time 변수 타입 변경 이전 데이터 저장\n",
    "train_err.to_csv(save_path + \"train_err_data.csv\", index=False)\n",
    "train_qual.to_csv(save_path + \"train_quality_data.csv\", index=False)\n",
    "train_prob.to_csv(save_path + \"train_problem_data.csv\", index=False)\n",
    "\n",
    "test_err.to_csv(save_path + \"test_err_data.csv\", index=False)\n",
    "test_qual.to_csv(save_path + \"test_quality_data.csv\", index=False)"
   ]
  },
  {
   "cell_type": "code",
   "execution_count": 69,
   "metadata": {},
   "outputs": [],
   "source": [
    "def make_datetime(x): # datetime 데이터로 변환\n",
    "        x = str(x)\n",
    "        year  = int(x[:4])\n",
    "        month = int(x[4:6])\n",
    "        day   = int(x[6:8])\n",
    "        hour  = int(x[8:10])\n",
    "        minute  = int(x[10:12])\n",
    "        sec  = int(x[12:])\n",
    "        return dt.datetime(year, month, day, hour, minute, sec)"
   ]
  },
  {
   "cell_type": "code",
   "execution_count": 70,
   "metadata": {},
   "outputs": [],
   "source": [
    "train_err.time = train_err.time.apply(lambda x : make_datetime(x))"
   ]
  },
  {
   "cell_type": "code",
   "execution_count": 71,
   "metadata": {},
   "outputs": [],
   "source": [
    "train_qual = train_qual.sort_values(['user_id','time']).reset_index(drop=True)\n",
    "train_qual.time = train_qual.time.apply(lambda x : make_datetime(x))"
   ]
  },
  {
   "cell_type": "code",
   "execution_count": 72,
   "metadata": {},
   "outputs": [],
   "source": [
    "train_prob = train_prob.sort_values(['user_id','time']).reset_index(drop=True)\n",
    "train_prob.time = train_prob.time.apply(lambda x : make_datetime(x))"
   ]
  },
  {
   "cell_type": "code",
   "execution_count": 73,
   "metadata": {},
   "outputs": [],
   "source": [
    "test_err.time = test_err.time.apply(lambda x : make_datetime(x))"
   ]
  },
  {
   "cell_type": "code",
   "execution_count": 74,
   "metadata": {},
   "outputs": [],
   "source": [
    "test_qual.time = test_qual.time.apply(lambda x : make_datetime(x))"
   ]
  },
  {
   "cell_type": "code",
   "execution_count": 75,
   "metadata": {},
   "outputs": [
    {
     "data": {
      "text/html": [
       "<div>\n",
       "<style scoped>\n",
       "    .dataframe tbody tr th:only-of-type {\n",
       "        vertical-align: middle;\n",
       "    }\n",
       "\n",
       "    .dataframe tbody tr th {\n",
       "        vertical-align: top;\n",
       "    }\n",
       "\n",
       "    .dataframe thead th {\n",
       "        text-align: right;\n",
       "    }\n",
       "</style>\n",
       "<table border=\"1\" class=\"dataframe\">\n",
       "  <thead>\n",
       "    <tr style=\"text-align: right;\">\n",
       "      <th></th>\n",
       "      <th>time</th>\n",
       "      <th>user_id</th>\n",
       "      <th>fwver</th>\n",
       "      <th>quality_0</th>\n",
       "      <th>quality_1</th>\n",
       "      <th>quality_2</th>\n",
       "      <th>quality_3</th>\n",
       "      <th>quality_4</th>\n",
       "      <th>quality_5</th>\n",
       "      <th>quality_6</th>\n",
       "      <th>quality_7</th>\n",
       "      <th>quality_8</th>\n",
       "      <th>quality_9</th>\n",
       "      <th>quality_10</th>\n",
       "      <th>quality_11</th>\n",
       "      <th>quality_12</th>\n",
       "    </tr>\n",
       "  </thead>\n",
       "  <tbody>\n",
       "    <tr>\n",
       "      <th>0</th>\n",
       "      <td>2020-11-29 09:00:00</td>\n",
       "      <td>10000</td>\n",
       "      <td>05.15.2138</td>\n",
       "      <td>0.0</td>\n",
       "      <td>0</td>\n",
       "      <td>0.0</td>\n",
       "      <td>0</td>\n",
       "      <td>0</td>\n",
       "      <td>0</td>\n",
       "      <td>0</td>\n",
       "      <td>0</td>\n",
       "      <td>0</td>\n",
       "      <td>0</td>\n",
       "      <td>4</td>\n",
       "      <td>0</td>\n",
       "      <td>0</td>\n",
       "    </tr>\n",
       "    <tr>\n",
       "      <th>1</th>\n",
       "      <td>2020-11-29 09:00:00</td>\n",
       "      <td>10000</td>\n",
       "      <td>05.15.2138</td>\n",
       "      <td>0.0</td>\n",
       "      <td>0</td>\n",
       "      <td>0.0</td>\n",
       "      <td>0</td>\n",
       "      <td>0</td>\n",
       "      <td>0</td>\n",
       "      <td>0</td>\n",
       "      <td>0</td>\n",
       "      <td>0</td>\n",
       "      <td>0</td>\n",
       "      <td>4</td>\n",
       "      <td>0</td>\n",
       "      <td>0</td>\n",
       "    </tr>\n",
       "    <tr>\n",
       "      <th>2</th>\n",
       "      <td>2020-11-29 09:00:00</td>\n",
       "      <td>10000</td>\n",
       "      <td>05.15.2138</td>\n",
       "      <td>0.0</td>\n",
       "      <td>0</td>\n",
       "      <td>0.0</td>\n",
       "      <td>0</td>\n",
       "      <td>0</td>\n",
       "      <td>0</td>\n",
       "      <td>0</td>\n",
       "      <td>0</td>\n",
       "      <td>0</td>\n",
       "      <td>0</td>\n",
       "      <td>4</td>\n",
       "      <td>0</td>\n",
       "      <td>0</td>\n",
       "    </tr>\n",
       "    <tr>\n",
       "      <th>3</th>\n",
       "      <td>2020-11-29 09:00:00</td>\n",
       "      <td>10000</td>\n",
       "      <td>05.15.2138</td>\n",
       "      <td>0.0</td>\n",
       "      <td>0</td>\n",
       "      <td>0.0</td>\n",
       "      <td>0</td>\n",
       "      <td>0</td>\n",
       "      <td>0</td>\n",
       "      <td>0</td>\n",
       "      <td>0</td>\n",
       "      <td>0</td>\n",
       "      <td>0</td>\n",
       "      <td>4</td>\n",
       "      <td>0</td>\n",
       "      <td>0</td>\n",
       "    </tr>\n",
       "    <tr>\n",
       "      <th>4</th>\n",
       "      <td>2020-11-29 09:00:00</td>\n",
       "      <td>10000</td>\n",
       "      <td>05.15.2138</td>\n",
       "      <td>0.0</td>\n",
       "      <td>0</td>\n",
       "      <td>0.0</td>\n",
       "      <td>0</td>\n",
       "      <td>0</td>\n",
       "      <td>0</td>\n",
       "      <td>0</td>\n",
       "      <td>0</td>\n",
       "      <td>0</td>\n",
       "      <td>0</td>\n",
       "      <td>4</td>\n",
       "      <td>0</td>\n",
       "      <td>0</td>\n",
       "    </tr>\n",
       "    <tr>\n",
       "      <th>...</th>\n",
       "      <td>...</td>\n",
       "      <td>...</td>\n",
       "      <td>...</td>\n",
       "      <td>...</td>\n",
       "      <td>...</td>\n",
       "      <td>...</td>\n",
       "      <td>...</td>\n",
       "      <td>...</td>\n",
       "      <td>...</td>\n",
       "      <td>...</td>\n",
       "      <td>...</td>\n",
       "      <td>...</td>\n",
       "      <td>...</td>\n",
       "      <td>...</td>\n",
       "      <td>...</td>\n",
       "      <td>...</td>\n",
       "    </tr>\n",
       "    <tr>\n",
       "      <th>788539</th>\n",
       "      <td>2020-11-24 03:30:00</td>\n",
       "      <td>24997</td>\n",
       "      <td>04.22.1778</td>\n",
       "      <td>0.0</td>\n",
       "      <td>0</td>\n",
       "      <td>0.0</td>\n",
       "      <td>0</td>\n",
       "      <td>0</td>\n",
       "      <td>1</td>\n",
       "      <td>0</td>\n",
       "      <td>0</td>\n",
       "      <td>0</td>\n",
       "      <td>0</td>\n",
       "      <td>17</td>\n",
       "      <td>0</td>\n",
       "      <td>0</td>\n",
       "    </tr>\n",
       "    <tr>\n",
       "      <th>788540</th>\n",
       "      <td>2020-11-24 03:30:00</td>\n",
       "      <td>24997</td>\n",
       "      <td>04.22.1778</td>\n",
       "      <td>0.0</td>\n",
       "      <td>0</td>\n",
       "      <td>0.0</td>\n",
       "      <td>0</td>\n",
       "      <td>0</td>\n",
       "      <td>0</td>\n",
       "      <td>0</td>\n",
       "      <td>0</td>\n",
       "      <td>0</td>\n",
       "      <td>0</td>\n",
       "      <td>17</td>\n",
       "      <td>0</td>\n",
       "      <td>0</td>\n",
       "    </tr>\n",
       "    <tr>\n",
       "      <th>788541</th>\n",
       "      <td>2020-11-24 03:30:00</td>\n",
       "      <td>24997</td>\n",
       "      <td>04.22.1778</td>\n",
       "      <td>0.0</td>\n",
       "      <td>0</td>\n",
       "      <td>0.0</td>\n",
       "      <td>0</td>\n",
       "      <td>0</td>\n",
       "      <td>3</td>\n",
       "      <td>0</td>\n",
       "      <td>0</td>\n",
       "      <td>0</td>\n",
       "      <td>0</td>\n",
       "      <td>17</td>\n",
       "      <td>0</td>\n",
       "      <td>0</td>\n",
       "    </tr>\n",
       "    <tr>\n",
       "      <th>788542</th>\n",
       "      <td>2020-11-24 03:30:00</td>\n",
       "      <td>24997</td>\n",
       "      <td>04.22.1778</td>\n",
       "      <td>0.0</td>\n",
       "      <td>0</td>\n",
       "      <td>0.0</td>\n",
       "      <td>0</td>\n",
       "      <td>0</td>\n",
       "      <td>0</td>\n",
       "      <td>0</td>\n",
       "      <td>0</td>\n",
       "      <td>0</td>\n",
       "      <td>0</td>\n",
       "      <td>17</td>\n",
       "      <td>0</td>\n",
       "      <td>0</td>\n",
       "    </tr>\n",
       "    <tr>\n",
       "      <th>788543</th>\n",
       "      <td>2020-11-24 03:30:00</td>\n",
       "      <td>24997</td>\n",
       "      <td>04.22.1778</td>\n",
       "      <td>0.0</td>\n",
       "      <td>0</td>\n",
       "      <td>0.0</td>\n",
       "      <td>0</td>\n",
       "      <td>0</td>\n",
       "      <td>9</td>\n",
       "      <td>0</td>\n",
       "      <td>0</td>\n",
       "      <td>0</td>\n",
       "      <td>0</td>\n",
       "      <td>17</td>\n",
       "      <td>0</td>\n",
       "      <td>0</td>\n",
       "    </tr>\n",
       "  </tbody>\n",
       "</table>\n",
       "<p>788544 rows × 16 columns</p>\n",
       "</div>"
      ],
      "text/plain": [
       "                      time  user_id       fwver  quality_0  quality_1  \\\n",
       "0      2020-11-29 09:00:00    10000  05.15.2138        0.0          0   \n",
       "1      2020-11-29 09:00:00    10000  05.15.2138        0.0          0   \n",
       "2      2020-11-29 09:00:00    10000  05.15.2138        0.0          0   \n",
       "3      2020-11-29 09:00:00    10000  05.15.2138        0.0          0   \n",
       "4      2020-11-29 09:00:00    10000  05.15.2138        0.0          0   \n",
       "...                    ...      ...         ...        ...        ...   \n",
       "788539 2020-11-24 03:30:00    24997  04.22.1778        0.0          0   \n",
       "788540 2020-11-24 03:30:00    24997  04.22.1778        0.0          0   \n",
       "788541 2020-11-24 03:30:00    24997  04.22.1778        0.0          0   \n",
       "788542 2020-11-24 03:30:00    24997  04.22.1778        0.0          0   \n",
       "788543 2020-11-24 03:30:00    24997  04.22.1778        0.0          0   \n",
       "\n",
       "        quality_2  quality_3  quality_4 quality_5  quality_6 quality_7  \\\n",
       "0             0.0          0          0         0          0         0   \n",
       "1             0.0          0          0         0          0         0   \n",
       "2             0.0          0          0         0          0         0   \n",
       "3             0.0          0          0         0          0         0   \n",
       "4             0.0          0          0         0          0         0   \n",
       "...           ...        ...        ...       ...        ...       ...   \n",
       "788539        0.0          0          0         1          0         0   \n",
       "788540        0.0          0          0         0          0         0   \n",
       "788541        0.0          0          0         3          0         0   \n",
       "788542        0.0          0          0         0          0         0   \n",
       "788543        0.0          0          0         9          0         0   \n",
       "\n",
       "       quality_8 quality_9 quality_10  quality_11  quality_12  \n",
       "0              0         0          4           0           0  \n",
       "1              0         0          4           0           0  \n",
       "2              0         0          4           0           0  \n",
       "3              0         0          4           0           0  \n",
       "4              0         0          4           0           0  \n",
       "...          ...       ...        ...         ...         ...  \n",
       "788539         0         0         17           0           0  \n",
       "788540         0         0         17           0           0  \n",
       "788541         0         0         17           0           0  \n",
       "788542         0         0         17           0           0  \n",
       "788543         0         0         17           0           0  \n",
       "\n",
       "[788544 rows x 16 columns]"
      ]
     },
     "execution_count": 75,
     "metadata": {},
     "output_type": "execute_result"
    }
   ],
   "source": [
    "train_qual"
   ]
  },
  {
   "cell_type": "code",
   "execution_count": 76,
   "metadata": {},
   "outputs": [
    {
     "name": "stdout",
     "output_type": "stream",
     "text": [
      "<class 'pandas.core.frame.DataFrame'>\n",
      "RangeIndex: 788544 entries, 0 to 788543\n",
      "Data columns (total 16 columns):\n",
      " #   Column      Non-Null Count   Dtype         \n",
      "---  ------      --------------   -----         \n",
      " 0   time        788544 non-null  datetime64[ns]\n",
      " 1   user_id     788544 non-null  int64         \n",
      " 2   fwver       788544 non-null  object        \n",
      " 3   quality_0   788544 non-null  float64       \n",
      " 4   quality_1   788544 non-null  int64         \n",
      " 5   quality_2   788544 non-null  float64       \n",
      " 6   quality_3   788544 non-null  int64         \n",
      " 7   quality_4   788544 non-null  int64         \n",
      " 8   quality_5   788544 non-null  object        \n",
      " 9   quality_6   788544 non-null  int64         \n",
      " 10  quality_7   788544 non-null  object        \n",
      " 11  quality_8   788544 non-null  object        \n",
      " 12  quality_9   788544 non-null  object        \n",
      " 13  quality_10  788544 non-null  object        \n",
      " 14  quality_11  788544 non-null  int64         \n",
      " 15  quality_12  788544 non-null  int64         \n",
      "dtypes: datetime64[ns](1), float64(2), int64(7), object(6)\n",
      "memory usage: 96.3+ MB\n"
     ]
    }
   ],
   "source": [
    "train_qual.info()"
   ]
  },
  {
   "cell_type": "code",
   "execution_count": 77,
   "metadata": {},
   "outputs": [],
   "source": [
    "def str2int(x):\n",
    "    if type(x) == str:\n",
    "        x = x.replace(\",\",\"\")\n",
    "        x = int(x)\n",
    "        return x\n",
    "    else:\n",
    "        x = int(x)\n",
    "        return x"
   ]
  },
  {
   "cell_type": "code",
   "execution_count": 78,
   "metadata": {},
   "outputs": [],
   "source": [
    "for i in train_qual.columns[3:]:\n",
    "    train_qual[i] = train_qual[i].apply(lambda x : str2int(x))"
   ]
  },
  {
   "cell_type": "code",
   "execution_count": 79,
   "metadata": {},
   "outputs": [],
   "source": [
    "for i in test_qual.columns[3:]:\n",
    "    test_qual[i] = test_qual[i].apply(lambda x : str2int(x))"
   ]
  },
  {
   "cell_type": "markdown",
   "metadata": {},
   "source": [
    "### 이상치 확인\n",
    "1. fwver의 이상치 확인"
   ]
  },
  {
   "cell_type": "code",
   "execution_count": 80,
   "metadata": {},
   "outputs": [
    {
     "name": "stderr",
     "output_type": "stream",
     "text": [
      "/var/folders/72/222764852597cbmznbjd4bsc0000gn/T/ipykernel_30969/907898699.py:5: FutureWarning: The frame.append method is deprecated and will be removed from pandas in a future version. Use pandas.concat instead.\n",
      "  df=df.append(pd.Series([temp.index[i], temp.values[i][0], temp.values[i][-1]], index=df.columns),\n",
      "/var/folders/72/222764852597cbmznbjd4bsc0000gn/T/ipykernel_30969/907898699.py:5: FutureWarning: The frame.append method is deprecated and will be removed from pandas in a future version. Use pandas.concat instead.\n",
      "  df=df.append(pd.Series([temp.index[i], temp.values[i][0], temp.values[i][-1]], index=df.columns),\n",
      "/var/folders/72/222764852597cbmznbjd4bsc0000gn/T/ipykernel_30969/907898699.py:5: FutureWarning: The frame.append method is deprecated and will be removed from pandas in a future version. Use pandas.concat instead.\n",
      "  df=df.append(pd.Series([temp.index[i], temp.values[i][0], temp.values[i][-1]], index=df.columns),\n",
      "/var/folders/72/222764852597cbmznbjd4bsc0000gn/T/ipykernel_30969/907898699.py:5: FutureWarning: The frame.append method is deprecated and will be removed from pandas in a future version. Use pandas.concat instead.\n",
      "  df=df.append(pd.Series([temp.index[i], temp.values[i][0], temp.values[i][-1]], index=df.columns),\n",
      "/var/folders/72/222764852597cbmznbjd4bsc0000gn/T/ipykernel_30969/907898699.py:5: FutureWarning: The frame.append method is deprecated and will be removed from pandas in a future version. Use pandas.concat instead.\n",
      "  df=df.append(pd.Series([temp.index[i], temp.values[i][0], temp.values[i][-1]], index=df.columns),\n",
      "/var/folders/72/222764852597cbmznbjd4bsc0000gn/T/ipykernel_30969/907898699.py:5: FutureWarning: The frame.append method is deprecated and will be removed from pandas in a future version. Use pandas.concat instead.\n",
      "  df=df.append(pd.Series([temp.index[i], temp.values[i][0], temp.values[i][-1]], index=df.columns),\n",
      "/var/folders/72/222764852597cbmznbjd4bsc0000gn/T/ipykernel_30969/907898699.py:5: FutureWarning: The frame.append method is deprecated and will be removed from pandas in a future version. Use pandas.concat instead.\n",
      "  df=df.append(pd.Series([temp.index[i], temp.values[i][0], temp.values[i][-1]], index=df.columns),\n",
      "/var/folders/72/222764852597cbmznbjd4bsc0000gn/T/ipykernel_30969/907898699.py:5: FutureWarning: The frame.append method is deprecated and will be removed from pandas in a future version. Use pandas.concat instead.\n",
      "  df=df.append(pd.Series([temp.index[i], temp.values[i][0], temp.values[i][-1]], index=df.columns),\n",
      "/var/folders/72/222764852597cbmznbjd4bsc0000gn/T/ipykernel_30969/907898699.py:5: FutureWarning: The frame.append method is deprecated and will be removed from pandas in a future version. Use pandas.concat instead.\n",
      "  df=df.append(pd.Series([temp.index[i], temp.values[i][0], temp.values[i][-1]], index=df.columns),\n",
      "/var/folders/72/222764852597cbmznbjd4bsc0000gn/T/ipykernel_30969/907898699.py:5: FutureWarning: The frame.append method is deprecated and will be removed from pandas in a future version. Use pandas.concat instead.\n",
      "  df=df.append(pd.Series([temp.index[i], temp.values[i][0], temp.values[i][-1]], index=df.columns),\n",
      "/var/folders/72/222764852597cbmznbjd4bsc0000gn/T/ipykernel_30969/907898699.py:5: FutureWarning: The frame.append method is deprecated and will be removed from pandas in a future version. Use pandas.concat instead.\n",
      "  df=df.append(pd.Series([temp.index[i], temp.values[i][0], temp.values[i][-1]], index=df.columns),\n",
      "/var/folders/72/222764852597cbmznbjd4bsc0000gn/T/ipykernel_30969/907898699.py:5: FutureWarning: The frame.append method is deprecated and will be removed from pandas in a future version. Use pandas.concat instead.\n",
      "  df=df.append(pd.Series([temp.index[i], temp.values[i][0], temp.values[i][-1]], index=df.columns),\n",
      "/var/folders/72/222764852597cbmznbjd4bsc0000gn/T/ipykernel_30969/907898699.py:5: FutureWarning: The frame.append method is deprecated and will be removed from pandas in a future version. Use pandas.concat instead.\n",
      "  df=df.append(pd.Series([temp.index[i], temp.values[i][0], temp.values[i][-1]], index=df.columns),\n",
      "/var/folders/72/222764852597cbmznbjd4bsc0000gn/T/ipykernel_30969/907898699.py:5: FutureWarning: The frame.append method is deprecated and will be removed from pandas in a future version. Use pandas.concat instead.\n",
      "  df=df.append(pd.Series([temp.index[i], temp.values[i][0], temp.values[i][-1]], index=df.columns),\n",
      "/var/folders/72/222764852597cbmznbjd4bsc0000gn/T/ipykernel_30969/907898699.py:5: FutureWarning: The frame.append method is deprecated and will be removed from pandas in a future version. Use pandas.concat instead.\n",
      "  df=df.append(pd.Series([temp.index[i], temp.values[i][0], temp.values[i][-1]], index=df.columns),\n",
      "/var/folders/72/222764852597cbmznbjd4bsc0000gn/T/ipykernel_30969/907898699.py:5: FutureWarning: The frame.append method is deprecated and will be removed from pandas in a future version. Use pandas.concat instead.\n",
      "  df=df.append(pd.Series([temp.index[i], temp.values[i][0], temp.values[i][-1]], index=df.columns),\n",
      "/var/folders/72/222764852597cbmznbjd4bsc0000gn/T/ipykernel_30969/907898699.py:5: FutureWarning: The frame.append method is deprecated and will be removed from pandas in a future version. Use pandas.concat instead.\n",
      "  df=df.append(pd.Series([temp.index[i], temp.values[i][0], temp.values[i][-1]], index=df.columns),\n",
      "/var/folders/72/222764852597cbmznbjd4bsc0000gn/T/ipykernel_30969/907898699.py:5: FutureWarning: The frame.append method is deprecated and will be removed from pandas in a future version. Use pandas.concat instead.\n",
      "  df=df.append(pd.Series([temp.index[i], temp.values[i][0], temp.values[i][-1]], index=df.columns),\n",
      "/var/folders/72/222764852597cbmznbjd4bsc0000gn/T/ipykernel_30969/907898699.py:5: FutureWarning: The frame.append method is deprecated and will be removed from pandas in a future version. Use pandas.concat instead.\n",
      "  df=df.append(pd.Series([temp.index[i], temp.values[i][0], temp.values[i][-1]], index=df.columns),\n",
      "/var/folders/72/222764852597cbmznbjd4bsc0000gn/T/ipykernel_30969/907898699.py:5: FutureWarning: The frame.append method is deprecated and will be removed from pandas in a future version. Use pandas.concat instead.\n",
      "  df=df.append(pd.Series([temp.index[i], temp.values[i][0], temp.values[i][-1]], index=df.columns),\n",
      "/var/folders/72/222764852597cbmznbjd4bsc0000gn/T/ipykernel_30969/907898699.py:5: FutureWarning: The frame.append method is deprecated and will be removed from pandas in a future version. Use pandas.concat instead.\n",
      "  df=df.append(pd.Series([temp.index[i], temp.values[i][0], temp.values[i][-1]], index=df.columns),\n",
      "/var/folders/72/222764852597cbmznbjd4bsc0000gn/T/ipykernel_30969/907898699.py:5: FutureWarning: The frame.append method is deprecated and will be removed from pandas in a future version. Use pandas.concat instead.\n",
      "  df=df.append(pd.Series([temp.index[i], temp.values[i][0], temp.values[i][-1]], index=df.columns),\n",
      "/var/folders/72/222764852597cbmznbjd4bsc0000gn/T/ipykernel_30969/907898699.py:5: FutureWarning: The frame.append method is deprecated and will be removed from pandas in a future version. Use pandas.concat instead.\n",
      "  df=df.append(pd.Series([temp.index[i], temp.values[i][0], temp.values[i][-1]], index=df.columns),\n",
      "/var/folders/72/222764852597cbmznbjd4bsc0000gn/T/ipykernel_30969/907898699.py:5: FutureWarning: The frame.append method is deprecated and will be removed from pandas in a future version. Use pandas.concat instead.\n",
      "  df=df.append(pd.Series([temp.index[i], temp.values[i][0], temp.values[i][-1]], index=df.columns),\n",
      "/var/folders/72/222764852597cbmznbjd4bsc0000gn/T/ipykernel_30969/907898699.py:5: FutureWarning: The frame.append method is deprecated and will be removed from pandas in a future version. Use pandas.concat instead.\n",
      "  df=df.append(pd.Series([temp.index[i], temp.values[i][0], temp.values[i][-1]], index=df.columns),\n",
      "/var/folders/72/222764852597cbmznbjd4bsc0000gn/T/ipykernel_30969/907898699.py:5: FutureWarning: The frame.append method is deprecated and will be removed from pandas in a future version. Use pandas.concat instead.\n",
      "  df=df.append(pd.Series([temp.index[i], temp.values[i][0], temp.values[i][-1]], index=df.columns),\n",
      "/var/folders/72/222764852597cbmznbjd4bsc0000gn/T/ipykernel_30969/907898699.py:5: FutureWarning: The frame.append method is deprecated and will be removed from pandas in a future version. Use pandas.concat instead.\n",
      "  df=df.append(pd.Series([temp.index[i], temp.values[i][0], temp.values[i][-1]], index=df.columns),\n",
      "/var/folders/72/222764852597cbmznbjd4bsc0000gn/T/ipykernel_30969/907898699.py:5: FutureWarning: The frame.append method is deprecated and will be removed from pandas in a future version. Use pandas.concat instead.\n",
      "  df=df.append(pd.Series([temp.index[i], temp.values[i][0], temp.values[i][-1]], index=df.columns),\n",
      "/var/folders/72/222764852597cbmznbjd4bsc0000gn/T/ipykernel_30969/907898699.py:5: FutureWarning: The frame.append method is deprecated and will be removed from pandas in a future version. Use pandas.concat instead.\n",
      "  df=df.append(pd.Series([temp.index[i], temp.values[i][0], temp.values[i][-1]], index=df.columns),\n",
      "/var/folders/72/222764852597cbmznbjd4bsc0000gn/T/ipykernel_30969/907898699.py:5: FutureWarning: The frame.append method is deprecated and will be removed from pandas in a future version. Use pandas.concat instead.\n",
      "  df=df.append(pd.Series([temp.index[i], temp.values[i][0], temp.values[i][-1]], index=df.columns),\n",
      "/var/folders/72/222764852597cbmznbjd4bsc0000gn/T/ipykernel_30969/907898699.py:5: FutureWarning: The frame.append method is deprecated and will be removed from pandas in a future version. Use pandas.concat instead.\n",
      "  df=df.append(pd.Series([temp.index[i], temp.values[i][0], temp.values[i][-1]], index=df.columns),\n",
      "/var/folders/72/222764852597cbmznbjd4bsc0000gn/T/ipykernel_30969/907898699.py:5: FutureWarning: The frame.append method is deprecated and will be removed from pandas in a future version. Use pandas.concat instead.\n",
      "  df=df.append(pd.Series([temp.index[i], temp.values[i][0], temp.values[i][-1]], index=df.columns),\n",
      "/var/folders/72/222764852597cbmznbjd4bsc0000gn/T/ipykernel_30969/907898699.py:5: FutureWarning: The frame.append method is deprecated and will be removed from pandas in a future version. Use pandas.concat instead.\n",
      "  df=df.append(pd.Series([temp.index[i], temp.values[i][0], temp.values[i][-1]], index=df.columns),\n",
      "/var/folders/72/222764852597cbmznbjd4bsc0000gn/T/ipykernel_30969/907898699.py:5: FutureWarning: The frame.append method is deprecated and will be removed from pandas in a future version. Use pandas.concat instead.\n",
      "  df=df.append(pd.Series([temp.index[i], temp.values[i][0], temp.values[i][-1]], index=df.columns),\n",
      "/var/folders/72/222764852597cbmznbjd4bsc0000gn/T/ipykernel_30969/907898699.py:5: FutureWarning: The frame.append method is deprecated and will be removed from pandas in a future version. Use pandas.concat instead.\n",
      "  df=df.append(pd.Series([temp.index[i], temp.values[i][0], temp.values[i][-1]], index=df.columns),\n",
      "/var/folders/72/222764852597cbmznbjd4bsc0000gn/T/ipykernel_30969/907898699.py:5: FutureWarning: The frame.append method is deprecated and will be removed from pandas in a future version. Use pandas.concat instead.\n",
      "  df=df.append(pd.Series([temp.index[i], temp.values[i][0], temp.values[i][-1]], index=df.columns),\n",
      "/var/folders/72/222764852597cbmznbjd4bsc0000gn/T/ipykernel_30969/907898699.py:5: FutureWarning: The frame.append method is deprecated and will be removed from pandas in a future version. Use pandas.concat instead.\n",
      "  df=df.append(pd.Series([temp.index[i], temp.values[i][0], temp.values[i][-1]], index=df.columns),\n"
     ]
    }
   ],
   "source": [
    "temp = train_err[['time','fwver']].groupby(\"fwver\").time.unique()\n",
    "df = pd.DataFrame(columns = ['fwver','start','end'])\n",
    "for i in range(len(temp)):\n",
    "    temp.values[i].sort()\n",
    "    df=df.append(pd.Series([temp.index[i], temp.values[i][0], temp.values[i][-1]], index=df.columns),\n",
    "                 ignore_index = True)"
   ]
  },
  {
   "cell_type": "code",
   "execution_count": 81,
   "metadata": {},
   "outputs": [],
   "source": [
    "def find_abnormal(x): # x는 살펴볼 기간 차이\n",
    "    for fwver, st, ed in tqdm(df.values):\n",
    "        if((ed - st).days < x):\n",
    "            user = train_err[train_err['fwver'] == fwver].user_id.unique()\n",
    "            print(\"fwver : {}, per_num : {}, period : {}, id : {}\".format(fwver,len(user),(ed-st).days,user))"
   ]
  },
  {
   "cell_type": "code",
   "execution_count": 85,
   "metadata": {},
   "outputs": [
    {
     "name": "stderr",
     "output_type": "stream",
     "text": [
      " 30%|██▉       | 11/37 [00:00<00:01, 15.91it/s]"
     ]
    },
    {
     "name": "stdout",
     "output_type": "stream",
     "text": [
      "fwver : 04.22.1656, per_num : 1, period : 0, id : [19831]\n"
     ]
    },
    {
     "name": "stderr",
     "output_type": "stream",
     "text": [
      " 73%|███████▎  | 27/37 [00:01<00:00, 23.38it/s]"
     ]
    },
    {
     "name": "stdout",
     "output_type": "stream",
     "text": [
      "fwver : 05.15.2090, per_num : 1, period : 0, id : [18142]\n"
     ]
    },
    {
     "name": "stderr",
     "output_type": "stream",
     "text": [
      "100%|██████████| 37/37 [00:01<00:00, 21.25it/s]"
     ]
    },
    {
     "name": "stdout",
     "output_type": "stream",
     "text": [
      "fwver : 05.15.2092, per_num : 1, period : 0, id : [24279]\n"
     ]
    },
    {
     "name": "stderr",
     "output_type": "stream",
     "text": [
      "\n"
     ]
    }
   ],
   "source": [
    "find_abnormal(3) # fwver : 펌웨어 버전 # per_num : 사용한 유저의 수 # id : 사용한 유저의 id"
   ]
  },
  {
   "cell_type": "code",
   "execution_count": null,
   "metadata": {},
   "outputs": [],
   "source": []
  }
 ],
 "metadata": {
  "interpreter": {
   "hash": "8625ec09a142717e5a7de880ad953eae88e1d4f4bcd0fca3e4e24c78b74f5f0e"
  },
  "kernelspec": {
   "display_name": "Python 3.9.0 ('test')",
   "language": "python",
   "name": "python3"
  },
  "language_info": {
   "codemirror_mode": {
    "name": "ipython",
    "version": 3
   },
   "file_extension": ".py",
   "mimetype": "text/x-python",
   "name": "python",
   "nbconvert_exporter": "python",
   "pygments_lexer": "ipython3",
   "version": "3.9.0"
  },
  "orig_nbformat": 4
 },
 "nbformat": 4,
 "nbformat_minor": 2
}
